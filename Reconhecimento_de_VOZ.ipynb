{
  "nbformat": 4,
  "nbformat_minor": 0,
  "metadata": {
    "colab": {
      "name": "Reconhecimento de VOZ",
      "provenance": [],
      "collapsed_sections": [],
      "authorship_tag": "ABX9TyPtL1pPyzOFruSb+a3Ks95c"
    },
    "kernelspec": {
      "name": "python3",
      "display_name": "Python 3"
    },
    "language_info": {
      "name": "python"
    }
  },
  "cells": [
    {
      "cell_type": "markdown",
      "source": [
        "# MACHINE LEARNING"
      ],
      "metadata": {
        "id": "-O55HKiysgwD"
      }
    },
    {
      "cell_type": "code",
      "source": [
        "# INSTALAR AS BIBLIOTECAS NECESSÁRIAS\n",
        "\n",
        "!pip install pipwin\n",
        "!pipwin install pyaudio\n",
        "!pip install SpeechRecognition"
      ],
      "metadata": {
        "id": "ChCLIrMt0yXG"
      },
      "execution_count": null,
      "outputs": []
    },
    {
      "cell_type": "code",
      "source": [
        "# IMPORTAR A BIBLIOTECA \n",
        "import speech_recognition as sr"
      ],
      "metadata": {
        "id": "iXTKwLTauFTI"
      },
      "execution_count": null,
      "outputs": []
    },
    {
      "cell_type": "markdown",
      "source": [
        "## INICIAR RECONHECIMENTO DE VOZ"
      ],
      "metadata": {
        "id": "FCoHCzLSujcA"
      }
    },
    {
      "cell_type": "code",
      "source": [
        "recognizer = sr.Recognizer()"
      ],
      "metadata": {
        "id": "58-BcOZ4umIw"
      },
      "execution_count": null,
      "outputs": []
    },
    {
      "cell_type": "code",
      "source": [
        "# CONSTRUIR UM LOOP WHILE\n",
        "# ENQUANTO FOR VERDADEIRO:\n",
        "while True:\n",
        "\n",
        "  try:\n",
        "    # ATIVE O MICROFONE\n",
        "    with sr.Microphone() as mic:\n",
        "      # RECONHECER O ÁUDIO DO MICROFONE, E APÓS PARAR DE FALAR, ESPERAR 3 SEGUNDOS E NÃO GRAVAR MAIS\n",
        "      recognizer.adjust_for_ambient_noise(mic, duration=0.3)\n",
        "      # COLETAR ESSE ÁUDIO E SALVAR EM UMA VARIÁVEL\n",
        "      audio = recognizer.listen(mic)\n",
        "      # TRANSFORME O ÁUDIO FALADO PARA TEXTO, UTILIZAR O MODELO DO GOOGLE, E MUDAR O IDIOMA DE INGLÊS PARA PORTUGUÊS\n",
        "      texto = recognizer.recognize_google(audio, language= 'pt-br')\n",
        "      # PADRONIZAR O TEXTO COM LETRA MINÚSCULA \n",
        "      # OBS: O MODELO NÃO ESTA AJUSTADO PARA COLOCAR VÍRGULAS E LETRAS MAIUSCULAS, APENAS PARA ENTENDER O QUE ESTA SENDO FALADO\n",
        "      texto = texto.lower()\n",
        "      # IMPRIMIR NA TELA O TEXTO FALADO, E PULAR UMA LINHA PARA BAIXO \n",
        "      print(f'{texto}\\n')\n",
        "\n",
        "      # APÓS FALAR A PALAVRA 'sair', O INTERPRETADOR VAI TERMINAR A GRAVAÇÃO\n",
        "      if texto == 'sair':\n",
        "        print('Saindo...')\n",
        "         # ENCERRAR LOOP\n",
        "        break\n",
        "\n",
        "# SI APARECER ALGUM ERRO, ELE VAI PRINTAR QUAL FOI O ERRO\n",
        "  except sr.UnknownValueError as error:\n",
        "    print(f'Error: {error}')\n",
        "\n",
        "    # APÓS SAIR DO ERRO, VAI VOLTAR PARA O recognizer NOVAMENTE E CONTINUAR\n",
        "    recognizer\n",
        "    continue"
      ],
      "metadata": {
        "id": "70Eq4PhGu-mT"
      },
      "execution_count": null,
      "outputs": []
    }
  ]
}